{
 "cells": [
  {
   "cell_type": "code",
   "execution_count": null,
   "metadata": {
    "colab": {
     "base_uri": "https://localhost:8080/"
    },
    "id": "h0mDcrO7VcTq",
    "outputId": "25dee337-578f-4898-8599-08264dec5465"
   },
   "outputs": [],
   "source": [
    "!nvidia-smi"
   ]
  },
  {
   "cell_type": "code",
   "execution_count": null,
   "metadata": {
    "colab": {
     "base_uri": "https://localhost:8080/"
    },
    "id": "4wbEPOrkViyB",
    "outputId": "66ff6113-f9a8-4a27-b761-d013ffd1a6da"
   },
   "outputs": [],
   "source": [
    "import os\n",
    "HOME = os.getcwd()\n",
    "print(HOME)"
   ]
  },
  {
   "cell_type": "code",
   "execution_count": null,
   "metadata": {
    "colab": {
     "base_uri": "https://localhost:8080/"
    },
    "id": "GBWzVZHjVkCg",
    "outputId": "3c19228b-d549-45a7-d1e2-16a7ef918e43"
   },
   "outputs": [],
   "source": [
    "!pip install ultralytics==8.2.103 -q\n",
    "\n",
    "from IPython import display\n",
    "display.clear_output()\n",
    "\n",
    "import ultralytics\n",
    "ultralytics.checks()\n",
    "\n",
    "from ultralytics import YOLO\n",
    "from IPython.display import display, Image"
   ]
  },
  {
   "cell_type": "code",
   "execution_count": null,
   "metadata": {
    "colab": {
     "base_uri": "https://localhost:8080/"
    },
    "id": "y2ZJeVUFVngU",
    "outputId": "e959f211-1443-4d0b-9957-a7c84d3ec6c3"
   },
   "outputs": [],
   "source": [
    "from google.colab import drive\n",
    "drive.mount('/content/drive')"
   ]
  },
  {
   "cell_type": "code",
   "execution_count": null,
   "metadata": {
    "id": "OQFp_utqAD6n"
   },
   "outputs": [],
   "source": [
    "hockey_type = \"field_hockey\"\n",
    "experiment = \"01\""
   ]
  },
  {
   "cell_type": "code",
   "execution_count": null,
   "metadata": {
    "id": "nLkF-0Mib6kx"
   },
   "outputs": [],
   "source": [
    "# Load a pre-trained YOLOv8 model\n",
    "model = YOLO('yolov8s.pt')\n",
    "\n",
    "# Phase 1: Fine-tune on large dataset\n",
    "model.train(data=f'/content/drive/MyDrive/dataset/{hockey_type}/phase_1.yaml',\n",
    "            epochs=100,\n",
    "            batch=16,\n",
    "            imgsz=1280,\n",
    "            augment=False,\n",
    "            project=f'/content/drive/MyDrive/runs/{hockey_type}',\n",
    "            name=f'phase_1_train_{experiment}',\n",
    "            exist_ok=False,\n",
    "            val=True)\n",
    "\n",
    "# Validate after Phase 1\n",
    "model.val(\n",
    "    project=f'/content/drive/MyDrive/runs/{hockey_type}',\n",
    "    name=f'phase_1_validation_{experiment}',\n",
    "    exist_ok=False,\n",
    ")\n",
    "\n",
    "# Save the Phase 1 fine-tuned model\n",
    "model.save(f'/content/drive/MyDrive/models/{hockey_type}/phase_1_{experiment}.pt')\n",
    "\n"
   ]
  },
  {
   "cell_type": "code",
   "execution_count": null,
   "metadata": {
    "id": "mOsdfbDx9hMt"
   },
   "outputs": [],
   "source": [
    "# Load the Phase 1 model for Phase 2 fine-tuning\n",
    "model = YOLO(f'/content/drive/MyDrive/models/{hockey_type}/phase_1_{experiment}.pt')\n",
    "\n",
    "# Phase 2: Fine-tune on smaller dataset with test frames\n",
    "model.train(data=f'/content/drive/MyDrive/dataset/{hockey_type}/phase_2.yaml',\n",
    "            epochs=100,\n",
    "            batch=16,\n",
    "            imgsz=1280,\n",
    "            augment=False,\n",
    "            project=f'/content/drive/MyDrive/runs/{hockey_type}',\n",
    "            name=f'phase_2_train_{experiment}',\n",
    "            exist_ok=False,\n",
    "            val=True)\n",
    "\n",
    "# Validate after Phase 2\n",
    "model.val(\n",
    "    project=f'/content/drive/MyDrive/runs/{hockey_type}',\n",
    "    name=f'phase_2_validation_{experiment}',\n",
    "    exist_ok=False,\n",
    ")"
   ]
  },
  {
   "cell_type": "markdown",
   "metadata": {
    "id": "zO7iN7sK-MEG"
   },
   "source": []
  }
 ],
 "metadata": {
  "accelerator": "GPU",
  "colab": {
   "gpuType": "T4",
   "provenance": [],
   "toc_visible": true
  },
  "kernelspec": {
   "display_name": "Python 3",
   "name": "python3"
  },
  "language_info": {
   "name": "python"
  }
 },
 "nbformat": 4,
 "nbformat_minor": 0
}
