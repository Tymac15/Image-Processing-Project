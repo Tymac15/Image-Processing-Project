{
  "cells": [
    {
      "cell_type": "code",
      "execution_count": null,
      "metadata": {
        "colab": {
          "base_uri": "https://localhost:8080/"
        },
        "id": "h0mDcrO7VcTq",
        "outputId": "25dee337-578f-4898-8599-08264dec5465"
      },
      "outputs": [
        {
          "name": "stdout",
          "output_type": "stream",
          "text": [
            "Sat Oct 26 18:46:05 2024       \n",
            "+---------------------------------------------------------------------------------------+\n",
            "| NVIDIA-SMI 535.104.05             Driver Version: 535.104.05   CUDA Version: 12.2     |\n",
            "|-----------------------------------------+----------------------+----------------------+\n",
            "| GPU  Name                 Persistence-M | Bus-Id        Disp.A | Volatile Uncorr. ECC |\n",
            "| Fan  Temp   Perf          Pwr:Usage/Cap |         Memory-Usage | GPU-Util  Compute M. |\n",
            "|                                         |                      |               MIG M. |\n",
            "|=========================================+======================+======================|\n",
            "|   0  Tesla T4                       Off | 00000000:00:04.0 Off |                    0 |\n",
            "| N/A   64C    P8              13W /  70W |      0MiB / 15360MiB |      0%      Default |\n",
            "|                                         |                      |                  N/A |\n",
            "+-----------------------------------------+----------------------+----------------------+\n",
            "                                                                                         \n",
            "+---------------------------------------------------------------------------------------+\n",
            "| Processes:                                                                            |\n",
            "|  GPU   GI   CI        PID   Type   Process name                            GPU Memory |\n",
            "|        ID   ID                                                             Usage      |\n",
            "|=======================================================================================|\n",
            "|  No running processes found                                                           |\n",
            "+---------------------------------------------------------------------------------------+\n"
          ]
        }
      ],
      "source": [
        "!nvidia-smi"
      ]
    },
    {
      "cell_type": "code",
      "execution_count": null,
      "metadata": {
        "colab": {
          "base_uri": "https://localhost:8080/"
        },
        "id": "4wbEPOrkViyB",
        "outputId": "66ff6113-f9a8-4a27-b761-d013ffd1a6da"
      },
      "outputs": [
        {
          "name": "stdout",
          "output_type": "stream",
          "text": [
            "/content\n"
          ]
        }
      ],
      "source": [
        "import os\n",
        "HOME = os.getcwd()\n",
        "print(HOME)"
      ]
    },
    {
      "cell_type": "code",
      "execution_count": null,
      "metadata": {
        "colab": {
          "base_uri": "https://localhost:8080/"
        },
        "id": "GBWzVZHjVkCg",
        "outputId": "3c19228b-d549-45a7-d1e2-16a7ef918e43"
      },
      "outputs": [
        {
          "name": "stdout",
          "output_type": "stream",
          "text": [
            "Ultralytics YOLOv8.2.103 🚀 Python-3.10.12 torch-2.5.0+cu121 CUDA:0 (Tesla T4, 15102MiB)\n",
            "Setup complete ✅ (2 CPUs, 12.7 GB RAM, 32.0/112.6 GB disk)\n"
          ]
        }
      ],
      "source": [
        "!pip install ultralytics==8.2.103 -q\n",
        "\n",
        "from IPython import display\n",
        "display.clear_output()\n",
        "\n",
        "import ultralytics\n",
        "ultralytics.checks()\n",
        "\n",
        "from ultralytics import YOLO\n",
        "from IPython.display import display, Image"
      ]
    },
    {
      "cell_type": "code",
      "execution_count": null,
      "metadata": {
        "colab": {
          "base_uri": "https://localhost:8080/"
        },
        "id": "y2ZJeVUFVngU",
        "outputId": "e959f211-1443-4d0b-9957-a7c84d3ec6c3"
      },
      "outputs": [
        {
          "name": "stdout",
          "output_type": "stream",
          "text": [
            "Mounted at /content/drive\n"
          ]
        }
      ],
      "source": [
        "from google.colab import drive\n",
        "drive.mount('/content/drive')"
      ]
    },
    {
      "cell_type": "code",
      "execution_count": null,
      "metadata": {
        "id": "OQFp_utqAD6n"
      },
      "outputs": [],
      "source": [
        "hockey_type = \"field_hockey\"\n",
        "experiment = \"01\""
      ]
    },
    {
      "cell_type": "code",
      "execution_count": null,
      "metadata": {
        "id": "nLkF-0Mib6kx"
      },
      "outputs": [],
      "source": [
        "# Load a pre-trained YOLOv8 model\n",
        "model = YOLO('yolov8s.pt')\n",
        "\n",
        "# Phase 1: Fine-tune on large dataset\n",
        "model.train(data=f'/content/drive/MyDrive/791/dataset/{hockey_type}/phase_1.yaml',\n",
        "            epochs=100,\n",
        "            batch=16,\n",
        "            imgsz=1280,\n",
        "            augment=False,\n",
        "            project=f'/content/drive/MyDrive/791/runs/{hockey_type}',\n",
        "            name=f'phase_1_train_{experiment}',\n",
        "            exist_ok=False,\n",
        "            val=True)\n",
        "\n",
        "# Validate after Phase 1\n",
        "model.val(\n",
        "    project=f'/content/drive/MyDrive/791/runs/{hockey_type}',\n",
        "    name=f'phase_1_validation_{experiment}',\n",
        "    exist_ok=False,\n",
        ")\n",
        "\n",
        "# Save the Phase 1 fine-tuned model\n",
        "model.save(f'/content/drive/MyDrive/791/models/{hockey_type}/phase_1_{experiment}.pt')\n",
        "\n"
      ]
    },
    {
      "cell_type": "code",
      "execution_count": null,
      "metadata": {
        "id": "mOsdfbDx9hMt"
      },
      "outputs": [],
      "source": [
        "# Load the Phase 1 model for Phase 2 fine-tuning\n",
        "model = YOLO(f'/content/drive/MyDrive/791/models/{hockey_type}/phase_1_{experiment}.pt')\n",
        "\n",
        "# Phase 2: Fine-tune on smaller dataset with test frames\n",
        "model.train(data=f'/content/drive/MyDrive/791/dataset/{hockey_type}/phase_2.yaml',\n",
        "            epochs=100,\n",
        "            batch=16,\n",
        "            imgsz=1280,\n",
        "            augment=False,\n",
        "            project=f'/content/drive/MyDrive/791/runs/{hockey_type}',\n",
        "            name=f'phase_2_train_{experiment}',\n",
        "            exist_ok=False,\n",
        "            val=True)\n",
        "\n",
        "# Validate after Phase 2\n",
        "model.val(\n",
        "    project=f'/content/drive/MyDrive/791/runs/{hockey_type}',\n",
        "    name=f'phase_2_validation_{experiment}',\n",
        "    exist_ok=False,\n",
        ")\n",
        "# Save the Phase 2 fine-tuned model\n",
        "model.save(f'/content/drive/MyDrive/791/models/{hockey_type}/phase_2_{experiment}.pt')"
      ]
    },
    {
      "cell_type": "markdown",
      "metadata": {
        "id": "zO7iN7sK-MEG"
      },
      "source": []
    }
  ],
  "metadata": {
    "accelerator": "GPU",
    "colab": {
      "gpuType": "T4",
      "provenance": [],
      "toc_visible": true
    },
    "kernelspec": {
      "display_name": "Python 3",
      "name": "python3"
    },
    "language_info": {
      "name": "python"
    }
  },
  "nbformat": 4,
  "nbformat_minor": 0
}
